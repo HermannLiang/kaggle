{
 "cells": [
  {
   "cell_type": "markdown",
   "metadata": {},
   "source": [
    "The EDA part of this kernel is inspired by [GoldFish](https://www.kaggle.com/go1dfish/updated4-29-fgvc6-simple-eda)"
   ]
  },
  {
   "cell_type": "code",
   "execution_count": 2,
   "metadata": {
    "_cell_guid": "b1076dfc-b9ad-4769-8c92-a6c4dae69d19",
    "_uuid": "8f2839f25d086af736a60e9eeb907d3b93b6e0e5"
   },
   "outputs": [
    {
     "name": "stdout",
     "output_type": "stream",
     "text": [
      "['test', 'train', 'train.csv', 'label_descriptions.json', 'sample_submission.csv']\n"
     ]
    }
   ],
   "source": [
    "import numpy as np # linear algebra\n",
    "import pandas as pd\n",
    "pd.set_option(\"display.max_rows\", 50)\n",
    "import os\n",
    "print(os.listdir(\"../input\"))\n",
    "import cv2\n",
    "import json\n",
    "import matplotlib.pyplot as plt\n",
    "%matplotlib inline\n",
    "plt.rcParams[\"font.size\"] = 15\n",
    "import seaborn as sns\n",
    "from collections import Counter\n",
    "from PIL import Image\n",
    "import math\n",
    "import seaborn as sns\n",
    "import tensorflow as tf\n",
    "from tensorflow import keras"
   ]
  },
  {
   "cell_type": "code",
   "execution_count": 3,
   "metadata": {},
   "outputs": [],
   "source": [
    "input_dir = \"../input/\"\n",
    "train_df = pd.read_csv(input_dir + \"train.csv\")"
   ]
  },
  {
   "cell_type": "markdown",
   "metadata": {},
   "source": [
    "Utility functions"
   ]
  },
  {
   "cell_type": "code",
   "execution_count": 4,
   "metadata": {},
   "outputs": [],
   "source": [
    "def json2df(data):\n",
    "    df = pd.DataFrame()\n",
    "    for idx, el in enumerate(data):\n",
    "        for key, val in el.items():\n",
    "            df.loc[idx,key] = val\n",
    "    return df"
   ]
  },
  {
   "cell_type": "code",
   "execution_count": 5,
   "metadata": {},
   "outputs": [],
   "source": [
    "with open(input_dir + 'label_descriptions.json') as f:\n",
    "    label_description = json.load(f)"
   ]
  },
  {
   "cell_type": "code",
   "execution_count": 6,
   "metadata": {},
   "outputs": [
    {
     "name": "stdout",
     "output_type": "stream",
     "text": [
      "{\n",
      "  \"year\": 2019,\n",
      "  \"version\": \"1.0\",\n",
      "  \"description\": \"The 2019 FGVC^6 iMaterialist Competition - Fashion track dataset.\",\n",
      "  \"contributor\": \"iMaterialist Fashion Competition group\",\n",
      "  \"url\": \"https://github.com/visipedia/imat_comp\",\n",
      "  \"date_created\": \"2019-04-19 12:38:27.493919\"\n",
      "}\n"
     ]
    }
   ],
   "source": [
    "print(json.dumps(label_description['info'],indent = 2))"
   ]
  },
  {
   "cell_type": "code",
   "execution_count": null,
   "metadata": {},
   "outputs": [],
   "source": [
    "category_df = json2df(label_description[\"categories\"])\n",
    "attributes_df = json2df(label_description[\"attributes\"])\n",
    "category_df['id'] = category_df['id'].astype(int)\n",
    "category_df['level'] = category_df['level'].astype(int)\n",
    "attributes_df['id'] = attributes_df['id'].astype(int)\n",
    "attributes_df['level'] = attributes_df['level'].astype(int)"
   ]
  },
  {
   "cell_type": "code",
   "execution_count": null,
   "metadata": {},
   "outputs": [],
   "source": [
    "category_df.shape[0]"
   ]
  },
  {
   "cell_type": "code",
   "execution_count": null,
   "metadata": {},
   "outputs": [],
   "source": [
    "attributes_df.head()"
   ]
  },
  {
   "cell_type": "code",
   "execution_count": null,
   "metadata": {},
   "outputs": [],
   "source": [
    "category_df.id.count()"
   ]
  },
  {
   "cell_type": "code",
   "execution_count": null,
   "metadata": {},
   "outputs": [],
   "source": [
    "category_df.describe()"
   ]
  },
  {
   "cell_type": "code",
   "execution_count": null,
   "metadata": {},
   "outputs": [],
   "source": [
    "#number of labels in each image\n",
    "labels_count = train_df.groupby('ImageId')['ClassId'].count().value_counts().sort_index()"
   ]
  },
  {
   "cell_type": "code",
   "execution_count": null,
   "metadata": {},
   "outputs": [],
   "source": [
    "sns.barplot(labels_count.index[:10],labels_count[:10])"
   ]
  },
  {
   "cell_type": "code",
   "execution_count": null,
   "metadata": {},
   "outputs": [],
   "source": [
    "num_train = len(os.listdir('../input/train'))\n",
    "print('The number of training image is {}'.format(num_train))\n",
    "num_test = len(os.listdir('../input/test'))\n",
    "print('The number of testing image is {}'.format(num_test))"
   ]
  },
  {
   "cell_type": "code",
   "execution_count": null,
   "metadata": {},
   "outputs": [],
   "source": [
    "train_df['ClassId'].unique()"
   ]
  },
  {
   "cell_type": "code",
   "execution_count": null,
   "metadata": {},
   "outputs": [],
   "source": [
    "WIDTH = 512\n",
    "HEIGHT = 512\n",
    "train_img_dir = \"../input/train/\""
   ]
  },
  {
   "cell_type": "code",
   "execution_count": null,
   "metadata": {},
   "outputs": [],
   "source": [
    "category_num = category_df.shape[0] + 1 \n",
    "# Q : why + 1 here??"
   ]
  },
  {
   "cell_type": "markdown",
   "metadata": {},
   "source": [
    "Exploring the image segmentation"
   ]
  },
  {
   "cell_type": "code",
   "execution_count": null,
   "metadata": {},
   "outputs": [],
   "source": [
    "pallete =  [\n",
    "    'Pastel1', 'Pastel2', 'Paired', 'Accent', 'Dark2',\n",
    "    'Set1', 'Set2', 'Set3', 'tab10', 'tab20', 'tab20b', 'tab20c']\n",
    "\n",
    "\n",
    "def make_mask_img(segment_df):\n",
    "    seg_width = segment_df.at[0, \"Width\"]\n",
    "    seg_height = segment_df.at[0, \"Height\"]\n",
    "    seg_img = np.full(seg_width*seg_height, category_num-1, dtype=np.int32)\n",
    "    for encoded_pixels, class_id in zip(segment_df[\"EncodedPixels\"].values, segment_df[\"ClassId\"].values):\n",
    "        pixel_list = list(map(int, encoded_pixels.split(\" \")))\n",
    "        for i in range(0, len(pixel_list), 2):\n",
    "            start_index = pixel_list[i] - 1\n",
    "            index_len = pixel_list[i+1] - 1\n",
    "            # assign the class label\n",
    "            seg_img[start_index:start_index+index_len] = int(class_id.split(\"_\")[0])\n",
    "    seg_img = seg_img.reshape((seg_height, seg_width), order='F')\n",
    "    seg_img = cv2.resize(seg_img, (WIDTH, HEIGHT), interpolation=cv2.INTER_NEAREST)\n",
    "\n",
    "    return seg_img\n",
    "\n",
    "def train_generator(df, batch_size):\n",
    "    img_ind_num = df.groupby(\"ImageId\")[\"ClassId\"].count()\n",
    "    index = df.index.values[0]\n",
    "    trn_images = []\n",
    "    seg_images = []\n",
    "    for i, (img_name, ind_num) in enumerate(img_ind_num.items()):\n",
    "        img = cv2.imread(\"../input/train/\" + img_name)\n",
    "        segment_df = (df.loc[index:index+ind_num-1, :]).reset_index(drop=True)\n",
    "        index += ind_num\n",
    "        if segment_df[\"ImageId\"].nunique() != 1:\n",
    "            raise Exception(\"Index Range Error\")\n",
    "        seg_img = make_mask_img(segment_df)\n",
    "        \n",
    "        # HWC -> CHW\n",
    "        img = img.transpose((2, 0, 1))\n",
    "        \n",
    "        trn_images.append(img)\n",
    "        seg_images.append(seg_img)\n",
    "        if((i+1) % batch_size == 0):\n",
    "            return trn_images, seg_images\n",
    "        \n",
    "def cv2plt(img, isColor=True):\n",
    "    \"\"\"\n",
    "    changing the representation of image from cv2 format to matplotlib format\n",
    "    \"\"\"\n",
    "    original_img = img\n",
    "    original_img = original_img.transpose(1, 2, 0) #order of channel\n",
    "    original_img = cv2.cvtColor(original_img, cv2.COLOR_BGR2RGB) # image colorspace\n",
    "    return original_img\n"
   ]
  },
  {
   "cell_type": "code",
   "execution_count": null,
   "metadata": {},
   "outputs": [],
   "source": [
    "original, segmented = train_generator(train_df, 6)\n",
    "fig, ax = plt.subplots(3, 2, figsize=(16, 18))\n",
    "for i, (img, seg) in enumerate(zip(original, segmented)):\n",
    "    ax[i//2, i%2].imshow(cv2plt(img))\n",
    "    seg[seg == 45] = 255\n",
    "    ax[i//2, i%2].imshow(seg, cmap='tab20_r', alpha=0.6)\n",
    "    ax[i//2, i%2].set_title(\"Sample {}\".format(i))"
   ]
  },
  {
   "cell_type": "markdown",
   "metadata": {},
   "source": [
    "Image segmentation using U-Net\n",
    "* image generator\n",
    "    * should loop forever, restrict the number of images through shorten the input df\n",
    "    * a decode function to decode each run-through encoded pixels\n",
    "    * generator resize funtion instead of resizing all the image\n",
    "    * train_df already sorted by image id\n",
    "* build and compile the model\n",
    "\n"
   ]
  },
  {
   "cell_type": "code",
   "execution_count": null,
   "metadata": {},
   "outputs": [],
   "source": [
    "def img_gen_trn(df,batch_size):\n",
    "    \n",
    "    id_num_mask = df.groupby('ImageId').ClassId.count()\n",
    "    batch_img,batch_mask = [],[]\n",
    "    index = df.index.values[0] #initial index (not exactly zero)\n",
    "    print(id_num_mask.shape)\n",
    "    for i,(img_id,num_mask) in enumerate(id_num_mask.items()): # i,(img_id,num_mask) ?\n",
    "        img = cv2.imread(train_img_dir+img_id)\n",
    "        img = cv2.resize(img, (WIDTH, HEIGHT), interpolation=cv2.INTER_AREA)\n",
    "        segment_df = train_df.loc[index:index+num_mask-1].reset_index(drop = True)\n",
    "        index += num_mask\n",
    "        if segment_df['ImageId'].nunique()!= 1:\n",
    "            raise Exception(\"Image Index Range Error\")\n",
    "        seg_img = make_mask_img(segment_df)\n",
    "        \n",
    "        # HWC -> CHW\n",
    "#         img = img.transpose((2,0,1))\n",
    "#         print(img.shape)\n",
    "        batch_img.append(img)\n",
    "        batch_mask.append(seg_img)\n",
    "        if i+1 == batch_size: # if((i+1) % batch_size == 0):\n",
    "            #yield image if it reaches the batch size\n",
    "            yield np.array(batch_img,dtype = np.float32)/255, np.array(batch_mask,dtype = np.int32)\n",
    "            batch_img,batch_mask = [],[]\n",
    "    if len(batch_img) != 0:\n",
    "        yield np.array(batch_img,dtype = np.float32)/255, np.array(batch_mask,dtype = np.int32)"
   ]
  },
  {
   "cell_type": "code",
   "execution_count": null,
   "metadata": {},
   "outputs": [],
   "source": [
    "# def img_gen_test(df):\n",
    "    "
   ]
  },
  {
   "cell_type": "markdown",
   "metadata": {},
   "source": [
    "## Define the UNET Architecture\n",
    "\n",
    "[UNET Website](https://lmb.informatik.uni-freiburg.de/people/ronneber/u-net/)\n",
    "\n",
    "[UNET Paper](https://arxiv.org/abs/1505.04597)\n",
    "\n",
    "![unet_arch](https://lmb.informatik.uni-freiburg.de/people/ronneber/u-net/u-net-architecture.png)"
   ]
  },
  {
   "cell_type": "markdown",
   "metadata": {},
   "source": [
    "The UNET consists of three path:\n",
    "1. Downsampling path\n",
    "2. Upsampling path\n",
    "3. Skip-connection path\n",
    "\n",
    "A Down-sampling unit consists of:\n",
    "(3x3 convolution layer, ReLU)\n",
    "(3x3 convolution layer, ReLU)\n",
    "(2x2 max pooling layer with stride of 2)\n",
    "\n",
    "A Up-sampling unit consists of:\n",
    "(3x3 convolution layer, ReLU)\n",
    "(3x3 convolution layer, ReLU)\n",
    "(2x2 up convolution layer)\n",
    "\n",
    "The up convolution layer has many other names, like decovolution layer, or the more acurate one: transposed convolution layer. In `keras` implementations, I haven't figured out whether `UpSampling2D()` layer and `Conv2DTranspose()` layer actually does the same thing, I will return to this matter latter.\n",
    "\n",
    "By the way, I have found a very interesting repo done by [vdumoulin](https://github.com/vdumoulin/conv_arithmetic), containing some visualisations of convolution layer. if you find it hard to understand it like me, it might be useful."
   ]
  },
  {
   "cell_type": "code",
   "execution_count": null,
   "metadata": {},
   "outputs": [],
   "source": [
    "def down_block(x,filters,kernel_size = (3,3),padding = 'same',strides = 1):\n",
    "    c = keras.layers.Conv2D(filters,kernel_size,padding=padding,strides=strides,activation = \"relu\")(x)\n",
    "    c = keras.layers.Conv2D(filters,kernel_size,padding=padding,strides=strides,activation = \"relu\")(c)\n",
    "    p = keras.layers.MaxPool2D(pool_size = (2,2),strides = (2,2))(c)\n",
    "    return c,p\n",
    "\n",
    "def up_block(x,skip,filters,kernel_size = (3,3),padding = 'same',strides = 1):\n",
    "    up = keras.layers.Conv2DTranspose(filters,kernel_size = (2,2),padding = 'same')(x)\n",
    "    concat = keras.layers.Concatenate()([up,skip])\n",
    "    c = keras.layers.Conv2D(filters,kernel_size,padding=padding,strides=strides,activation = \"relu\")(concat)\n",
    "    c = keras.layers.Conv2D(filters,kernel_size,padding=padding,strides=strides,activation = \"relu\")(c)\n",
    "    return c\n",
    "\n",
    "def bottle_neck_block(x,filters,kernel_size = (3,3),padding = 'same',strides = 1):\n",
    "    c = keras.layers.Conv2D(filters,kernel_size,padding=padding,strides=strides,activation = \"relu\")(x)\n",
    "    c = keras.layers.Conv2D(filters,kernel_size,padding=padding,strides=strides,activation = \"relu\")(c)\n",
    "    return c\n"
   ]
  },
  {
   "cell_type": "code",
   "execution_count": null,
   "metadata": {},
   "outputs": [],
   "source": [
    "def UNet():\n",
    "    \n",
    "    f = [64,128,256,512,1024] #number of feature channel\n",
    "    \n",
    "    #input layer\n",
    "    inputs = keras.layers.Input(shape = (HEIGHT,WIDTH,3))\n",
    "    \n",
    "    # downsampling path\n",
    "    c1,p1 = down_block(inputs,f[0])\n",
    "    c2,p2 = down_block(p1,f[1])\n",
    "    c3,p3 = down_block(p2,f[2])\n",
    "    c4,p4 = down_block(p3,f[3])\n",
    "    \n",
    "    # bottle neck path\n",
    "    b5 = bottle_neck_block(p4,f[4])\n",
    "    \n",
    "    # upsampling path\n",
    "    u6 = up_block(b5,c4,f[3])\n",
    "    u7 = up_block(u6,c3,f[2])\n",
    "    u8 = up_block(u7,c2,f[2])\n",
    "    u9 = up_block(u8,c1,f[2])\n",
    "    \n",
    "    #output layer\n",
    "    outputs = keras.layers.Conv2D(category_num,(1,1),activation = 'sigmoid')(u9)\n",
    "    model = keras.models.Model(inputs,outputs)\n",
    "    return model\n",
    "    \n",
    "    "
   ]
  },
  {
   "cell_type": "code",
   "execution_count": null,
   "metadata": {},
   "outputs": [],
   "source": [
    "model = UNet()"
   ]
  }
 ],
 "metadata": {
  "kernelspec": {
   "display_name": "Python 3",
   "language": "python",
   "name": "python3"
  },
  "language_info": {
   "codemirror_mode": {
    "name": "ipython",
    "version": 3
   },
   "file_extension": ".py",
   "mimetype": "text/x-python",
   "name": "python",
   "nbconvert_exporter": "python",
   "pygments_lexer": "ipython3",
   "version": "3.6.4"
  }
 },
 "nbformat": 4,
 "nbformat_minor": 1
}
