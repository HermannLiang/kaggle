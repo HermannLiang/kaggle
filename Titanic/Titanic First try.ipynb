{
 "cells": [
  {
   "cell_type": "markdown",
   "metadata": {},
   "source": [
    "Like many others, Titanic is the first kaggle completition I attended. In this notebook you will find how I use model stacking, a common ensemble technique on Kaggle, to submit my very first result on the LB! "
   ]
  },
  {
   "cell_type": "code",
   "execution_count": 1,
   "metadata": {
    "_cell_guid": "b1076dfc-b9ad-4769-8c92-a6c4dae69d19",
    "_uuid": "8f2839f25d086af736a60e9eeb907d3b93b6e0e5"
   },
   "outputs": [
    {
     "data": {
      "text/html": [
       "<div>\n",
       "<style scoped>\n",
       "    .dataframe tbody tr th:only-of-type {\n",
       "        vertical-align: middle;\n",
       "    }\n",
       "\n",
       "    .dataframe tbody tr th {\n",
       "        vertical-align: top;\n",
       "    }\n",
       "\n",
       "    .dataframe thead th {\n",
       "        text-align: right;\n",
       "    }\n",
       "</style>\n",
       "<table border=\"1\" class=\"dataframe\">\n",
       "  <thead>\n",
       "    <tr style=\"text-align: right;\">\n",
       "      <th></th>\n",
       "      <th>PassengerId</th>\n",
       "      <th>Survived</th>\n",
       "      <th>Pclass</th>\n",
       "      <th>Name</th>\n",
       "      <th>Sex</th>\n",
       "      <th>Age</th>\n",
       "      <th>SibSp</th>\n",
       "      <th>Parch</th>\n",
       "      <th>Ticket</th>\n",
       "      <th>Fare</th>\n",
       "      <th>Cabin</th>\n",
       "      <th>Embarked</th>\n",
       "    </tr>\n",
       "  </thead>\n",
       "  <tbody>\n",
       "    <tr>\n",
       "      <th>0</th>\n",
       "      <td>1</td>\n",
       "      <td>0</td>\n",
       "      <td>3</td>\n",
       "      <td>Braund, Mr. Owen Harris</td>\n",
       "      <td>male</td>\n",
       "      <td>22.0</td>\n",
       "      <td>1</td>\n",
       "      <td>0</td>\n",
       "      <td>A/5 21171</td>\n",
       "      <td>7.2500</td>\n",
       "      <td>NaN</td>\n",
       "      <td>S</td>\n",
       "    </tr>\n",
       "    <tr>\n",
       "      <th>1</th>\n",
       "      <td>2</td>\n",
       "      <td>1</td>\n",
       "      <td>1</td>\n",
       "      <td>Cumings, Mrs. John Bradley (Florence Briggs Th...</td>\n",
       "      <td>female</td>\n",
       "      <td>38.0</td>\n",
       "      <td>1</td>\n",
       "      <td>0</td>\n",
       "      <td>PC 17599</td>\n",
       "      <td>71.2833</td>\n",
       "      <td>C85</td>\n",
       "      <td>C</td>\n",
       "    </tr>\n",
       "    <tr>\n",
       "      <th>2</th>\n",
       "      <td>3</td>\n",
       "      <td>1</td>\n",
       "      <td>3</td>\n",
       "      <td>Heikkinen, Miss. Laina</td>\n",
       "      <td>female</td>\n",
       "      <td>26.0</td>\n",
       "      <td>0</td>\n",
       "      <td>0</td>\n",
       "      <td>STON/O2. 3101282</td>\n",
       "      <td>7.9250</td>\n",
       "      <td>NaN</td>\n",
       "      <td>S</td>\n",
       "    </tr>\n",
       "    <tr>\n",
       "      <th>3</th>\n",
       "      <td>4</td>\n",
       "      <td>1</td>\n",
       "      <td>1</td>\n",
       "      <td>Futrelle, Mrs. Jacques Heath (Lily May Peel)</td>\n",
       "      <td>female</td>\n",
       "      <td>35.0</td>\n",
       "      <td>1</td>\n",
       "      <td>0</td>\n",
       "      <td>113803</td>\n",
       "      <td>53.1000</td>\n",
       "      <td>C123</td>\n",
       "      <td>S</td>\n",
       "    </tr>\n",
       "    <tr>\n",
       "      <th>4</th>\n",
       "      <td>5</td>\n",
       "      <td>0</td>\n",
       "      <td>3</td>\n",
       "      <td>Allen, Mr. William Henry</td>\n",
       "      <td>male</td>\n",
       "      <td>35.0</td>\n",
       "      <td>0</td>\n",
       "      <td>0</td>\n",
       "      <td>373450</td>\n",
       "      <td>8.0500</td>\n",
       "      <td>NaN</td>\n",
       "      <td>S</td>\n",
       "    </tr>\n",
       "  </tbody>\n",
       "</table>\n",
       "</div>"
      ],
      "text/plain": [
       "   PassengerId  Survived  Pclass    ...        Fare Cabin  Embarked\n",
       "0            1         0       3    ...      7.2500   NaN         S\n",
       "1            2         1       1    ...     71.2833   C85         C\n",
       "2            3         1       3    ...      7.9250   NaN         S\n",
       "3            4         1       1    ...     53.1000  C123         S\n",
       "4            5         0       3    ...      8.0500   NaN         S\n",
       "\n",
       "[5 rows x 12 columns]"
      ]
     },
     "execution_count": 1,
     "metadata": {},
     "output_type": "execute_result"
    }
   ],
   "source": [
    "import numpy as np # linear algebra\n",
    "import pandas as pd # data processing, CSV file I/O (e.g. pd.read_csv)\n",
    "import sklearn\n",
    "import re\n",
    "import xgboost as xgb\n",
    "import seaborn as sns\n",
    "import matplotlib.pyplot as plt\n",
    "\n",
    "train = pd.read_csv(\"../input/train.csv\")\n",
    "test = pd.read_csv(\"../input/test.csv\")\n",
    "fullset = [train, test] \n",
    "train.columns\n",
    "train.head()"
   ]
  },
  {
   "cell_type": "code",
   "execution_count": 2,
   "metadata": {
    "_uuid": "a9366efd12c09ec4f571b28c6e72def69569078e"
   },
   "outputs": [
    {
     "data": {
      "text/html": [
       "        <script type=\"text/javascript\">\n",
       "        window.PlotlyConfig = {MathJaxConfig: 'local'};\n",
       "        if (window.MathJax) {MathJax.Hub.Config({SVG: {font: \"STIX-Web\"}});}\n",
       "        if (typeof require !== 'undefined') {\n",
       "        require.undef(\"plotly\");\n",
       "        requirejs.config({\n",
       "            paths: {\n",
       "                'plotly': ['https://cdn.plot.ly/plotly-latest.min']\n",
       "            }\n",
       "        });\n",
       "        require(['plotly'], function(Plotly) {\n",
       "            window._Plotly = Plotly;\n",
       "        });\n",
       "        }\n",
       "        </script>\n",
       "        "
      ]
     },
     "metadata": {},
     "output_type": "display_data"
    }
   ],
   "source": [
    "import plotly.offline as py\n",
    "py.init_notebook_mode(connected=True)\n",
    "import plotly.graph_objs as go\n",
    "import plotly.tools as tls\n",
    "\n",
    "import warnings\n",
    "warnings.filterwarnings('ignore')\n"
   ]
  },
  {
   "cell_type": "markdown",
   "metadata": {
    "_uuid": "92db4afd3b7a650800e34fd19685056ec265a882"
   },
   "source": [
    "The following EDA and feature engineering are inspired  by Sina: https://www.kaggle.com/sinakhorami/titanic-best-working-classifier\n"
   ]
  },
  {
   "cell_type": "code",
   "execution_count": 3,
   "metadata": {
    "_uuid": "6591757afacc1f7ff6c8d605f2574cb5eb5f5c6d"
   },
   "outputs": [],
   "source": [
    "# Feature Engineering\n",
    "\n",
    "# Let's tackle each feature one by one\n",
    "# PassengerId, leave it there?\n",
    "# Survived: our target\n",
    "# Pclass\n",
    "train.Pclass.isnull().value_counts() # there are no null values\n",
    "# train.Sex.value_counts()\n",
    "# train.Sex.isnull().value_counts()\n",
    "# test.Sex.isnull().value_counts()\n",
    "for dataset in fullset:\n",
    "    # Sex: let's convert Sex into binary variable. Non-binary shouldn't exist back then right?\n",
    "    dataset['Sex'] = dataset['Sex'].map({'male': 0, 'female': 1}).astype(int)\n",
    "    \n"
   ]
  },
  {
   "cell_type": "code",
   "execution_count": 4,
   "metadata": {
    "_uuid": "9bba1be4edf74129d9a35c36a167691ec2441bb2"
   },
   "outputs": [
    {
     "name": "stdout",
     "output_type": "stream",
     "text": [
      "  Categorical_Age  Survived\n",
      "0  (-0.001, 21.0]  0.413386\n",
      "1    (21.0, 29.0]  0.366197\n",
      "2    (29.0, 38.0]  0.386364\n",
      "3    (38.0, 80.0]  0.362745\n",
      "1    106\n",
      "4    104\n",
      "2    104\n",
      "0    104\n",
      "Name: Age, dtype: int64\n"
     ]
    }
   ],
   "source": [
    "# for age we need imputation\n",
    "for dataset in fullset:\n",
    "    age_mean = dataset['Age'].mean()\n",
    "    age_std = dataset['Age'].std()\n",
    "    age_null_count = dataset['Age'].isnull().sum()\n",
    "    age_imp = np.random.randint(age_mean - age_std,age_mean + age_std, size = age_null_count)\n",
    "    \n",
    "    dataset['Age'][np.isnan(dataset['Age'])] = age_imp\n",
    "    dataset['Age'] = dataset['Age'].astype(int)\n",
    "    dataset['Categorical_Age'] = pd.qcut(dataset['Age'],4)\n",
    "    \n",
    "print(train[['Survived','Categorical_Age']].groupby(['Categorical_Age'],as_index = False).mean())\n",
    "for dataset in fullset:\n",
    "    dataset.loc[dataset['Age']<=21.0,'Age'] = 0\n",
    "    dataset.loc[(dataset['Age']>21.0)&(dataset['Age']<=28.0),'Age'] = 1\n",
    "    dataset.loc[(dataset['Age']>28.0)&(dataset['Age']<=38.0),'Age'] = 2\n",
    "    dataset.loc[dataset['Age']>38.0,'Age'] = 4\n",
    "    dataset['Age'] = dataset['Age'].astype(int)\n",
    "    \n",
    "print(dataset['Age'].value_counts())"
   ]
  },
  {
   "cell_type": "code",
   "execution_count": 5,
   "metadata": {
    "_uuid": "916052364842b6f523023421f95b29743809e62b"
   },
   "outputs": [
    {
     "name": "stdout",
     "output_type": "stream",
     "text": [
      "   FamilySize  Survived\n",
      "0           1  0.303538\n",
      "1           2  0.552795\n",
      "2           3  0.578431\n",
      "3           4  0.724138\n",
      "4           5  0.200000\n",
      "5           6  0.136364\n",
      "6           7  0.333333\n",
      "7           8  0.000000\n",
      "8          11  0.000000\n"
     ]
    }
   ],
   "source": [
    "# Create feature FamilySize from sibsp and parch\n",
    "for dataset in fullset:\n",
    "    dataset['FamilySize'] = dataset['SibSp'] + dataset['Parch'] + 1\n",
    "print (train[['FamilySize', 'Survived']].groupby(['FamilySize'], as_index=False).mean())"
   ]
  },
  {
   "cell_type": "code",
   "execution_count": 6,
   "metadata": {
    "_uuid": "2a038ab467e3cab10d22ee879f63189392561200"
   },
   "outputs": [
    {
     "data": {
      "text/plain": [
       "count    891.000000\n",
       "mean      32.204208\n",
       "std       49.693429\n",
       "min        0.000000\n",
       "25%        7.910400\n",
       "50%       14.454200\n",
       "75%       31.000000\n",
       "max      512.329200\n",
       "Name: Fare, dtype: float64"
      ]
     },
     "execution_count": 6,
     "metadata": {},
     "output_type": "execute_result"
    }
   ],
   "source": [
    "train['Fare'].describe()"
   ]
  },
  {
   "cell_type": "code",
   "execution_count": 7,
   "metadata": {
    "_uuid": "f0c30257c1103a7001ddb1b5db3f8fa3b2b1df86"
   },
   "outputs": [
    {
     "name": "stdout",
     "output_type": "stream",
     "text": [
      "  Categorical_Fare  Survived\n",
      "0   (-0.001, 7.91]  0.197309\n",
      "1   (7.91, 14.454]  0.303571\n",
      "2   (14.454, 31.0]  0.454955\n",
      "3  (31.0, 512.329]  0.581081\n",
      "(7.91, 14.454]     224\n",
      "(-0.001, 7.91]     223\n",
      "(31.0, 512.329]    222\n",
      "(14.454, 31.0]     222\n",
      "Name: Categorical_Fare, dtype: int64\n",
      "(-0.001, 7.896]    114\n",
      "(14.454, 31.5]     105\n",
      "(31.5, 512.329]    103\n",
      "(7.896, 14.454]     96\n",
      "Name: Categorical_Fare, dtype: int64\n",
      "2    229\n",
      "0    223\n",
      "3    222\n",
      "1    217\n",
      "Name: Fare, dtype: int64\n"
     ]
    }
   ],
   "source": [
    "# Fare\n",
    "\n",
    "test['Fare'].isnull().value_counts() # only one missing value in testing set\n",
    "# we can just use mean imputation\n",
    "test['Fare'] = test['Fare'].fillna(test['Fare'].mean())\n",
    "for dataset in fullset:\n",
    "    dataset['Categorical_Fare'] = pd.qcut(dataset['Fare'],4)\n",
    "    \n",
    "print(train[['Survived','Categorical_Fare']].groupby('Categorical_Fare',as_index = False).mean())\n",
    "print(train['Categorical_Fare'].value_counts())\n",
    "print(test['Categorical_Fare'].value_counts())\n",
    "\n",
    "for dataset in fullset:\n",
    "    dataset.loc[dataset['Fare']<=7.91,'Fare'] = 0\n",
    "    dataset.loc[(dataset['Fare']<=14.454) & (dataset['Fare']>7.91),'Fare'] = 1\n",
    "    dataset.loc[(dataset['Fare']<=31.0) & (dataset['Fare']>14.454),'Fare'] = 2\n",
    "    dataset.loc[dataset['Fare']>31.0,'Fare'] = 3\n",
    "    dataset['Fare'] = dataset['Fare'].astype(int)\n",
    "\n",
    "print(train['Fare'].value_counts())\n",
    "    "
   ]
  },
  {
   "cell_type": "code",
   "execution_count": 8,
   "metadata": {
    "_uuid": "af5826f1430ca14f5d04002f862fcccfece21992"
   },
   "outputs": [
    {
     "data": {
      "text/plain": [
       "True     687\n",
       "False    204\n",
       "Name: Cabin, dtype: int64"
      ]
     },
     "execution_count": 8,
     "metadata": {},
     "output_type": "execute_result"
    }
   ],
   "source": [
    "# Cabin Number\n",
    "train.Cabin.isnull().value_counts()\n",
    "# perhaps no need for using this feature??"
   ]
  },
  {
   "cell_type": "code",
   "execution_count": 9,
   "metadata": {
    "_uuid": "e7eb2b294b25af44b3b5beb1995de0d994153945"
   },
   "outputs": [
    {
     "name": "stdout",
     "output_type": "stream",
     "text": [
      "   Embarked  Survived\n",
      "0         0  0.553571\n",
      "1         1  0.389610\n",
      "2         2  0.339009\n"
     ]
    }
   ],
   "source": [
    "# Embarked\n",
    "train.Embarked.isnull().value_counts() # 2 missing values\n",
    "test.Embarked.isnull().value_counts()  # no missing values\n",
    "# impute using median\n",
    "train['Embarked'] = train['Embarked'].fillna('S')\n",
    "# train.Embarked.value_counts() # 2 missing values\n",
    "\n",
    "\n",
    "# converting\n",
    "embarked_mapping = {'C':0,'Q':1,'S':2}\n",
    "for dataset in fullset:\n",
    "    dataset['Embarked'] = dataset['Embarked'].map(embarked_mapping).astype(int)\n",
    "\n",
    "print(train[['Survived','Embarked']].groupby(['Embarked'],as_index = False).mean())"
   ]
  },
  {
   "cell_type": "code",
   "execution_count": 10,
   "metadata": {
    "_uuid": "fcccab55055f3fd5f2b15ebf6ad429410bf0e19d"
   },
   "outputs": [
    {
     "name": "stdout",
     "output_type": "stream",
     "text": [
      "Sex         0    1\n",
      "Title             \n",
      "Capt        1    0\n",
      "Col         2    0\n",
      "Countess    0    1\n",
      "Don         1    0\n",
      "Dr          6    1\n",
      "Jonkheer    1    0\n",
      "Lady        0    1\n",
      "Major       2    0\n",
      "Master     40    0\n",
      "Miss        0  182\n",
      "Mlle        0    2\n",
      "Mme         0    1\n",
      "Mr        517    0\n",
      "Mrs         0  125\n",
      "Ms          0    1\n",
      "Rev         6    0\n",
      "Sir         1    0\n"
     ]
    }
   ],
   "source": [
    "# credit to Sina \n",
    "def get_title(name):\n",
    "    title_search = re.search(' ([A-Za-z]+)\\.', name)\n",
    "    # If the title exists, extract and return it.\n",
    "    if title_search:\n",
    "        return title_search.group(1)\n",
    "    return \"\"\n",
    "\n",
    "for dataset in fullset:\n",
    "    dataset['Title'] = dataset['Name'].apply(get_title)\n",
    "\n",
    "print(pd.crosstab(train['Title'], train['Sex']))"
   ]
  },
  {
   "cell_type": "code",
   "execution_count": 11,
   "metadata": {
    "_uuid": "89947466a7872c720baba6e367367bbbc14346db"
   },
   "outputs": [
    {
     "name": "stdout",
     "output_type": "stream",
     "text": [
      "      Title  Survived\n",
      "0  Educated  0.230769\n",
      "1  Military  0.400000\n",
      "2      Miss  0.702703\n",
      "3        Mr  0.156673\n",
      "4       Mrs  0.793651\n",
      "5  Nobility  0.577778\n",
      "Mr          240\n",
      "Miss         79\n",
      "Mrs          72\n",
      "Nobility     22\n",
      "Educated      3\n",
      "Military      2\n",
      "Name: Title, dtype: int64\n"
     ]
    }
   ],
   "source": [
    "# Here let's be creative and get some manual feature different from the original\n",
    "for dataset in fullset:\n",
    "    dataset['Title'] = dataset['Title'].replace(['Capt','Major','Col'],'Military')\n",
    "    dataset['Title'] = dataset['Title'].replace(['Countess','Don','Dona','Jonkheer','Lady','Master','Sir'],'Nobility')\n",
    "    dataset['Title'] = dataset['Title'].replace(['Dr','Rev'],'Educated')\n",
    "    #common sense replacement\n",
    "    dataset['Title'] = dataset['Title'].replace('Mlle', 'Miss')\n",
    "    dataset['Title'] = dataset['Title'].replace('Ms', 'Miss')\n",
    "    dataset['Title'] = dataset['Title'].replace('Mme', 'Mrs')\n",
    "    \n",
    "print(train[['Survived','Title']].groupby(['Title'],as_index = False).mean())\n",
    "print(test['Title'].value_counts())"
   ]
  },
  {
   "cell_type": "code",
   "execution_count": 12,
   "metadata": {
    "_uuid": "becbc07dafd21b16eee75d17056b85ae253a359a"
   },
   "outputs": [
    {
     "name": "stdout",
     "output_type": "stream",
     "text": [
      "3    517\n",
      "2    185\n",
      "4    126\n",
      "5     45\n",
      "0     13\n",
      "1      5\n",
      "Name: Title, dtype: int64\n"
     ]
    }
   ],
   "source": [
    "title_mapping = {'Educated': 0, 'Military':1,'Miss':2,'Mr':3,'Mrs':4,'Nobility':5}\n",
    "for dataset in fullset:\n",
    "    dataset['Title'] = dataset['Title'].map(title_mapping).astype(int)\n",
    "    \n",
    "print(train['Title'].value_counts())"
   ]
  },
  {
   "cell_type": "code",
   "execution_count": 13,
   "metadata": {
    "_cell_guid": "79c7e3d0-c299-4dcb-8224-4455121ee9b0",
    "_uuid": "d629ff2d2480ee46fbb7e2d37f6b5fab8052498a"
   },
   "outputs": [],
   "source": [
    "# preparing training and testing dataset\n",
    "train_X = train.drop(['Survived','Name','Ticket','Categorical_Age','Categorical_Fare',\n",
    "                     'PassengerId','SibSp','Parch','Cabin'],axis = 1)\n",
    "# test_X = test.drop(['Name','Ticket'],axis = 1)\n",
    "train_y = train['Survived']\n",
    "test_X = test.drop(['Name','Ticket','Categorical_Age','Categorical_Fare',\n",
    "                     'PassengerId','SibSp','Parch','Cabin'],axis = 1)\n",
    "# retain only numpy array\n",
    "train_X = train_X.values\n",
    "train_y = train_y.values\n",
    "test_X = test_X.values\n",
    "\n"
   ]
  },
  {
   "cell_type": "markdown",
   "metadata": {
    "_uuid": "62971bc5c2c057b84a14101c6f75234079f51cc7"
   },
   "source": [
    "Investigate different classifiers:\n",
    "* Logistic Regression\n",
    "* SVM\n",
    "* Decision Tree\n",
    "* Random Forest\n",
    "* AdaBoost\n",
    "* Gradient Boosting Classifier\n",
    "* Multilayer perceptron\n",
    "* Gaussian Naive Bayes\n",
    "* Linear Discriminant Analysis\n",
    "* K-Nearest Neighbor\n",
    "\n",
    "\n"
   ]
  },
  {
   "cell_type": "code",
   "execution_count": 14,
   "metadata": {
    "_uuid": "baf1eeb049cd199d4dcf960f1ef0cabcbc2371c5"
   },
   "outputs": [
    {
     "name": "stdout",
     "output_type": "stream",
     "text": [
      "{'SVC': 0.8288888888888888, 'RandomForestClassifier': 0.8111111111111111, 'AdaBoostClassifier': 0.8288888888888888, 'GradientBoostingClassifier': 0.821111111111111, 'LogisticRegression': 0.8111111111111111, 'GaussianNB': 0.7766666666666666, 'KNeighborsClassifier': 0.7988888888888888, 'LinearDiscriminantAnalysis': 0.8044444444444444, 'MLPClassifier': 0.7966666666666666, 'DecisionTreeClassifier': 0.8055555555555556}\n"
     ]
    }
   ],
   "source": [
    "# import model\n",
    "from sklearn.svm import SVC\n",
    "from sklearn.ensemble import RandomForestClassifier, AdaBoostClassifier, GradientBoostingClassifier\n",
    "from sklearn.linear_model import LogisticRegression\n",
    "from sklearn.naive_bayes import GaussianNB\n",
    "from sklearn.neighbors import KNeighborsClassifier\n",
    "from sklearn.discriminant_analysis import LinearDiscriminantAnalysis\n",
    "from sklearn.neural_network import MLPClassifier\n",
    "from sklearn.tree import DecisionTreeClassifier\n",
    "from sklearn.model_selection import StratifiedShuffleSplit\n",
    "from sklearn.metrics import accuracy_score\n",
    "SEED = 0\n",
    "sss = StratifiedShuffleSplit(n_splits = 10,test_size= 0.1,random_state = SEED)\n",
    "sss.split(train_X,train_y)\n",
    "classifiers = [SVC(),\n",
    "               RandomForestClassifier(),\n",
    "               AdaBoostClassifier(),\n",
    "               GradientBoostingClassifier(),\n",
    "               LogisticRegression(),\n",
    "               GaussianNB(),\n",
    "               KNeighborsClassifier(),\n",
    "               LinearDiscriminantAnalysis(),\n",
    "               MLPClassifier(),\n",
    "               DecisionTreeClassifier()]\n",
    "\n",
    "acc_table = {} # a dictionary store the prediction\n",
    "for train_index, test_index in sss.split(train_X,train_y):\n",
    "    train_X_cv, test_X_cv = train_X[train_index],train_X[test_index]\n",
    "    train_y_cv, test_y_cv = train_y[train_index],train_y[test_index]\n",
    "    for clf in classifiers:\n",
    "        name = clf.__class__.__name__\n",
    "        clf.fit(train_X_cv,train_y_cv)\n",
    "        predict_y = clf.predict(test_X_cv)\n",
    "        acc = accuracy_score(test_y_cv,predict_y)\n",
    "        if name in acc_table:\n",
    "            acc_table[name] += acc\n",
    "        else:\n",
    "            acc_table[name] = acc\n",
    "\n",
    "for name in acc_table:\n",
    "    acc_table[name] = acc_table[name]/len(classifiers)\n",
    "print(acc_table)"
   ]
  },
  {
   "cell_type": "code",
   "execution_count": 15,
   "metadata": {
    "_uuid": "eaecc7afab1e0a5c195f04f2b22a58d4884a5a42"
   },
   "outputs": [],
   "source": [
    "# print()\n",
    "# acc_df = pd.DataFrame(acc_table.items(),columns = ['Classifier','Accuracy'])\n",
    "\n",
    "acc_df = pd.DataFrame(list(acc_table.items()),columns = ['Classifier','Accuracy'])\n",
    "# acc_df.index.name = 'Classifier'\n",
    "# acc_df.reset_index()\n",
    "acc_df = acc_df.sort_values('Accuracy',ascending = 0)\n",
    "# acc_df"
   ]
  },
  {
   "cell_type": "code",
   "execution_count": 16,
   "metadata": {
    "_uuid": "3319b9d7cae99179bdebaacec66313906c1a20bb"
   },
   "outputs": [
    {
     "data": {
      "text/plain": [
       "<matplotlib.axes._subplots.AxesSubplot at 0x7f777c5fdcc0>"
      ]
     },
     "execution_count": 16,
     "metadata": {},
     "output_type": "execute_result"
    },
    {
     "data": {
      "image/png": "[encoded data removed]",
      "text/plain": [
       "<Figure size 432x288 with 1 Axes>"
      ]
     },
     "metadata": {},
     "output_type": "display_data"
    }
   ],
   "source": [
    "import matplotlib.pyplot as plt\n",
    "import seaborn as sns\n",
    "\n",
    "plt.xlabel('Accuracy')\n",
    "plt.title('Classifier Accuracy')\n",
    "sns.set_color_codes(\"muted\")\n",
    "sns.barplot(x='Accuracy', y='Classifier', data=acc_df, color=\"b\")"
   ]
  },
  {
   "cell_type": "markdown",
   "metadata": {
    "_uuid": "ff58001deb07c5f380c82b0ca072dc1c74c4c617"
   },
   "source": [
    "Here, we can use the top five classifiers as our first stacking layer.\n",
    "Or using all of them and see how things go?\n",
    "We can repeat the fit and predict process but this time around we wrap them into pipeline for simplification.\n"
   ]
  },
  {
   "cell_type": "code",
   "execution_count": 17,
   "metadata": {
    "_uuid": "236ed7951f0ea1a026e0aaa452b4515f3291d2db"
   },
   "outputs": [],
   "source": [
    "# from sklearn.model_selection import KFold\n",
    "# SEED = 0\n",
    "# kf = KFold(n_splits=5,random_state=SEED)\n",
    "# kf.get_n_splits(train_X)\n",
    "# # train_idx, test_idx = kf.split(train_X,train_y)\n",
    "# type(kf)\n",
    "# for i, (trainindex, testindex) in enumerate(kf.split(train_X)): \n",
    "#     print(\"%s %s\" % (trainindex, testindex))"
   ]
  },
  {
   "cell_type": "code",
   "execution_count": 18,
   "metadata": {
    "_uuid": "e9749f96334bb7536e4a6c768887f0e87fc12b11"
   },
   "outputs": [],
   "source": [
    "NFOLD = 10\n",
    "sss = StratifiedShuffleSplit(n_splits = NFOLD,test_size= 0.1,random_state = SEED)\n",
    "class SklearnHelper(object):\n",
    "    def __init__(self,clf,seed=0,params=None):\n",
    "        params['random_state'] = seed\n",
    "        self.clf = clf(**params)\n",
    "    def train(self, train_X, train_y):\n",
    "        self.clf.fit(train_X, train_y)\n",
    "    def predict(self, x):\n",
    "        return self.clf.predict(x)\n",
    "    def fit(self,x,y):\n",
    "        return self.clf.fit(x,y)\n",
    "    def feature_importances(self,x,y):\n",
    "        print(self.clf.fit(x,y).feature_importances_)\n",
    "    \n",
    "def get_oof(clf, x_train, y_train, x_test):\n",
    "    oof_train = np.zeros((ntrain,))\n",
    "    oof_test = np.zeros((ntest,))\n",
    "    oof_test_skf = np.empty((NFOLD, ntest))\n",
    "\n",
    "    for i, (train_index, test_index) in enumerate(sss.split(x_train,y_train)):\n",
    "        x_tr = x_train[train_index]\n",
    "        y_tr = y_train[train_index]\n",
    "        x_te = x_train[test_index]\n",
    "\n",
    "        clf.train(x_tr, y_tr)\n",
    "\n",
    "        oof_train[test_index] = clf.predict(x_te)\n",
    "        oof_test_skf[i, :] = clf.predict(x_test)\n",
    "\n",
    "    oof_test[:] = oof_test_skf.mean(axis=0)\n",
    "    return oof_train.reshape(-1, 1), oof_test.reshape(-1, 1)"
   ]
  },
  {
   "cell_type": "code",
   "execution_count": 19,
   "metadata": {
    "_uuid": "380b890f71a227a1e62a2dc245f88a9bcffb630a"
   },
   "outputs": [],
   "source": [
    "# Random Forest parameters\n",
    "rf_params = {\n",
    "    'n_jobs': -1,\n",
    "    'n_estimators': 500,\n",
    "     'warm_start': True, \n",
    "     #'max_features': 0.2,\n",
    "    'max_depth': 6,\n",
    "    'min_samples_leaf': 2,\n",
    "    'max_features' : 'sqrt',\n",
    "    'verbose': 0\n",
    "}\n",
    "# AdaBoost parameters\n",
    "ada_params = {\n",
    "    'n_estimators': 500,\n",
    "    'learning_rate' : 0.75\n",
    "}\n",
    "\n",
    "# Gradient Boosting parameters\n",
    "gb_params = {\n",
    "    'n_estimators': 500,\n",
    "     #'max_features': 0.2,\n",
    "    'max_depth': 5,\n",
    "    'min_samples_leaf': 2,\n",
    "    'verbose': 0\n",
    "}\n",
    "\n",
    "# Support Vector Classifier parameters \n",
    "svc_params = {\n",
    "    'C' : 0.025\n",
    "    }\n",
    "logreg_params = {'max_iter' : 100}\n",
    "mlp_params = {'verbose' : 0}\n",
    "dt_params = {'min_samples_split' : 2}\n",
    "\n",
    "svc = SklearnHelper(clf=SVC, seed=SEED, params=svc_params)\n",
    "rf = SklearnHelper(clf = RandomForestClassifier, seed=SEED,params=rf_params)\n",
    "ada = SklearnHelper(clf=AdaBoostClassifier, seed=SEED, params=ada_params)\n",
    "gb = SklearnHelper(clf=GradientBoostingClassifier, seed=SEED, params=gb_params)\n",
    "logreg = SklearnHelper(clf=LogisticRegression, seed=SEED, params=logreg_params)\n",
    "mlp = SklearnHelper(clf=MLPClassifier, seed=SEED, params=mlp_params)\n",
    "dt = SklearnHelper(clf=DecisionTreeClassifier, seed=SEED, params=dt_params)"
   ]
  },
  {
   "cell_type": "code",
   "execution_count": 20,
   "metadata": {
    "_uuid": "3aee9217efca3bd4062b88d0400853c05cadc6bd"
   },
   "outputs": [
    {
     "name": "stdout",
     "output_type": "stream",
     "text": [
      "Training is complete\n"
     ]
    }
   ],
   "source": [
    "x_train = train_X\n",
    "y_train = train_y\n",
    "x_test = test_X\n",
    "\n",
    "ntrain = x_train.shape[0]\n",
    "ntest = x_test.shape[0]\n",
    "gb_oof_train, gb_oof_test = get_oof(gb,x_train, y_train, x_test) # Gradient Boost\n",
    "svc_oof_train, svc_oof_test = get_oof(svc,x_train, y_train, x_test) # Support Vector Classifier\n",
    "rf_oof_train, rf_oof_test = get_oof(rf,x_train, y_train, x_test) # Random Forest\n",
    "ada_oof_train, ada_oof_test = get_oof(ada, x_train, y_train, x_test) # AdaBoost \n",
    "logreg_oof_train, logreg_oof_test = get_oof(logreg, x_train, y_train, x_test) # logreg\n",
    "mlp_oof_train, mlp_oof_test = get_oof(mlp, x_train, y_train, x_test) # mlp\n",
    "dt_oof_train, dt_oof_test = get_oof(dt, x_train, y_train, x_test) # mlp\n",
    "print(\"Training is complete\")"
   ]
  },
  {
   "cell_type": "code",
   "execution_count": 21,
   "metadata": {
    "_uuid": "cc4d9d016ceba02692d1c6e8045a898b746d1a16"
   },
   "outputs": [
    {
     "data": {
      "text/html": [
       "        <script type=\"text/javascript\">\n",
       "        window.PlotlyConfig = {MathJaxConfig: 'local'};\n",
       "        if (window.MathJax) {MathJax.Hub.Config({SVG: {font: \"STIX-Web\"}});}\n",
       "        if (typeof require !== 'undefined') {\n",
       "        require.undef(\"plotly\");\n",
       "        requirejs.config({\n",
       "            paths: {\n",
       "                'plotly': ['https://cdn.plot.ly/plotly-latest.min']\n",
       "            }\n",
       "        });\n",
       "        require(['plotly'], function(Plotly) {\n",
       "            window._Plotly = Plotly;\n",
       "        });\n",
       "        }\n",
       "        </script>\n",
       "        "
      ]
     },
     "metadata": {},
     "output_type": "display_data"
    },
    {
     "data": {
      "application/vnd.plotly.v1+json": {
       "config": {
        "linkText": "Export to plot.ly",
        "plotlyServerURL": "https://plot.ly",
        "responsive": true,
        "showLink": false
       },
       "data": [
        {
         "colorscale": "Viridis",
         "reversescale": true,
         "showscale": true,
         "type": "heatmap",
         "uid": "05113776-825e-4d56-b1d2-ede614e645b2",
         "x": [
          "RandomForest",
          "AdaBoost",
          "GradientBoost",
          "DecisionTrees",
          "MLP",
          "LogReg",
          "SVC"
         ],
         "y": [
          "RandomForest",
          "AdaBoost",
          "GradientBoost",
          "DecisionTrees",
          "MLP",
          "LogReg",
          "SVC"
         ],
         "z": [
          [
           1.0,
           0.8934146624075281,
           0.844620560658662,
           0.8574487334659961,
           0.817367217622593,
           0.8494173384039998,
           null
          ],
          [
           0.8934146624075281,
           1.0,
           0.8050648398464159,
           0.8011631003815523,
           0.8917346078714632,
           0.9051006863636489,
           null
          ],
          [
           0.844620560658662,
           0.8050648398464159,
           1.0,
           0.9139433256359746,
           0.74794039966527,
           0.7598390772102731,
           null
          ],
          [
           0.8574487334659961,
           0.8011631003815523,
           0.9139433256359746,
           1.0,
           0.7490366854847305,
           0.7589664395040397,
           null
          ],
          [
           0.817367217622593,
           0.8917346078714632,
           0.74794039966527,
           0.7490366854847305,
           1.0,
           0.9144212837928847,
           null
          ],
          [
           0.8494173384039998,
           0.9051006863636489,
           0.7598390772102731,
           0.7589664395040397,
           0.9144212837928847,
           1.0,
           null
          ],
          [
           null,
           null,
           null,
           null,
           null,
           null,
           null
          ]
         ]
        }
       ],
       "layout": {}
      },
      "text/html": [
       "<div>\n",
       "        \n",
       "        \n",
       "            <div id=\"1291e8b9-4d25-4352-a306-84c415322d7d\" class=\"plotly-graph-div\" style=\"height:525px; width:100%;\"></div>\n",
       "            <script type=\"text/javascript\">\n",
       "                require([\"plotly\"], function(Plotly) {\n",
       "                    window.PLOTLYENV=window.PLOTLYENV || {};\n",
       "                    window.PLOTLYENV.BASE_URL='https://plot.ly';\n",
       "                    \n",
       "                if (document.getElementById(\"1291e8b9-4d25-4352-a306-84c415322d7d\")) {\n",
       "                    Plotly.newPlot(\n",
       "                        '1291e8b9-4d25-4352-a306-84c415322d7d',\n",
       "                        [{\"colorscale\": \"Viridis\", \"reversescale\": true, \"showscale\": true, \"type\": \"heatmap\", \"uid\": \"774a0201-0ee9-4dcd-b170-9b014acb55a3\", \"x\": [\"RandomForest\", \"AdaBoost\", \"GradientBoost\", \"DecisionTrees\", \"MLP\", \"LogReg\", \"SVC\"], \"y\": [\"RandomForest\", \"AdaBoost\", \"GradientBoost\", \"DecisionTrees\", \"MLP\", \"LogReg\", \"SVC\"], \"z\": [[1.0, 0.8934146624075281, 0.844620560658662, 0.8574487334659961, 0.817367217622593, 0.8494173384039998, null], [0.8934146624075281, 1.0, 0.8050648398464159, 0.8011631003815523, 0.8917346078714632, 0.9051006863636489, null], [0.844620560658662, 0.8050648398464159, 1.0, 0.9139433256359746, 0.74794039966527, 0.7598390772102731, null], [0.8574487334659961, 0.8011631003815523, 0.9139433256359746, 1.0, 0.7490366854847305, 0.7589664395040397, null], [0.817367217622593, 0.8917346078714632, 0.74794039966527, 0.7490366854847305, 1.0, 0.9144212837928847, null], [0.8494173384039998, 0.9051006863636489, 0.7598390772102731, 0.7589664395040397, 0.9144212837928847, 1.0, null], [null, null, null, null, null, null, null]]}],\n",
       "                        {},\n",
       "                        {\"showLink\": false, \"linkText\": \"Export to plot.ly\", \"plotlyServerURL\": \"https://plot.ly\", \"responsive\": true}\n",
       "                    ).then(function(){\n",
       "                            \n",
       "var gd = document.getElementById('1291e8b9-4d25-4352-a306-84c415322d7d');\n",
       "var x = new MutationObserver(function (mutations, observer) {{\n",
       "        var display = window.getComputedStyle(gd).display;\n",
       "        if (!display || display === 'none') {{\n",
       "            console.log([gd, 'removed!']);\n",
       "            Plotly.purge(gd);\n",
       "            observer.disconnect();\n",
       "        }}\n",
       "}});\n",
       "\n",
       "// Listen for the removal of the full notebook cells\n",
       "var notebookContainer = gd.closest('#notebook-container');\n",
       "if (notebookContainer) {{\n",
       "    x.observe(notebookContainer, {childList: true});\n",
       "}}\n",
       "\n",
       "// Listen for the clearing of the current output cell\n",
       "var outputEl = gd.closest('.output');\n",
       "if (outputEl) {{\n",
       "    x.observe(outputEl, {childList: true});\n",
       "}}\n",
       "\n",
       "                        })\n",
       "                };\n",
       "                });\n",
       "            </script>\n",
       "        </div>"
      ]
     },
     "metadata": {},
     "output_type": "display_data"
    }
   ],
   "source": [
    "base_predictions_train = pd.DataFrame( {'RandomForest': rf_oof_train.ravel(),\n",
    "      'AdaBoost': ada_oof_train.ravel(),\n",
    "      'GradientBoost': gb_oof_train.ravel(),\n",
    "      'DecisionTrees': dt_oof_train.ravel(),\n",
    "      'MLP': mlp_oof_train.ravel(),\n",
    "      'LogReg':logreg_oof_train.ravel(),\n",
    "      'SVC':svc_oof_train.ravel()\n",
    "                                       })\n",
    "base_predictions_train.head()\n",
    "\n",
    "py.init_notebook_mode(connected=True)\n",
    "data = [\n",
    "    go.Heatmap(\n",
    "        z= base_predictions_train.astype(float).corr().values ,\n",
    "        x=base_predictions_train.columns.values,\n",
    "        y= base_predictions_train.columns.values,\n",
    "          colorscale='Viridis',\n",
    "            showscale=True,\n",
    "            reversescale = True\n",
    "    )\n",
    "]\n",
    "py.iplot(data, filename='labelled-heatmap')"
   ]
  },
  {
   "cell_type": "code",
   "execution_count": 22,
   "metadata": {
    "_uuid": "b02092917d684a00ba50b7c5ed49bdcd7fe6989e"
   },
   "outputs": [],
   "source": [
    "x_train = np.concatenate((rf_oof_train, ada_oof_train, gb_oof_train, dt_oof_train,mlp_oof_train,logreg_oof_train,\n",
    "                          svc_oof_train), axis=1)\n",
    "x_test = np.concatenate((rf_oof_test, ada_oof_test, gb_oof_test, dt_oof_test,mlp_oof_test,mlp_oof_test,\n",
    "                         svc_oof_test), axis=1)"
   ]
  },
  {
   "cell_type": "code",
   "execution_count": 23,
   "metadata": {
    "_uuid": "4ef6eb9594d1f82777f19c6e0a6e3787c12b2fd6"
   },
   "outputs": [],
   "source": [
    "gbm = xgb.XGBClassifier(\n",
    "    #learning_rate = 0.02,\n",
    " n_estimators= 2000,\n",
    " max_depth= 4,\n",
    " min_child_weight= 2,\n",
    " #gamma=1,\n",
    " gamma=0.9,                        \n",
    " subsample=0.8,\n",
    " colsample_bytree=0.8,\n",
    " objective= 'binary:logistic',\n",
    " nthread= -1,\n",
    " scale_pos_weight=1).fit(x_train, y_train)\n",
    "predictions = gbm.predict(x_test)"
   ]
  },
  {
   "cell_type": "code",
   "execution_count": 24,
   "metadata": {
    "_uuid": "b5fed763ddfa96913e6f4227169540dd4688c737"
   },
   "outputs": [],
   "source": [
    "SubmissionCL = pd.DataFrame({ 'PassengerId': test['PassengerId'],\n",
    "                            'Survived': predictions })\n",
    "SubmissionCL.to_csv(\"SubmissionCL.csv\", index=False)\n"
   ]
  }
 ],
 "metadata": {
  "kernelspec": {
   "display_name": "Python 3",
   "language": "python",
   "name": "python3"
  },
  "language_info": {
   "codemirror_mode": {
    "name": "ipython",
    "version": 3
   },
   "file_extension": ".py",
   "mimetype": "text/x-python",
   "name": "python",
   "nbconvert_exporter": "python",
   "pygments_lexer": "ipython3",
   "version": "3.6.6"
  }
 },
 "nbformat": 4,
 "nbformat_minor": 1
}
